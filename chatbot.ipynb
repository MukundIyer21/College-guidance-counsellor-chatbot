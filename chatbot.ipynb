{
 "cells": [
  {
   "cell_type": "code",
   "execution_count": 1,
   "id": "fe8db115",
   "metadata": {},
   "outputs": [],
   "source": [
    "from langchain_community.document_loaders import PyPDFLoader\n",
    "import os\n",
    "from langchain_chroma import Chroma\n",
    "from langchain_text_splitters import RecursiveCharacterTextSplitter\n",
    "from langchain_community.document_loaders import PyPDFDirectoryLoader\n",
    "from langchain_ollama import OllamaEmbeddings\n",
    "from langchain_huggingface import HuggingFaceEmbeddings\n",
    "import re   "
   ]
  },
  {
   "cell_type": "code",
   "execution_count": 2,
   "id": "fca9daab",
   "metadata": {},
   "outputs": [],
   "source": [
    "GROQ_API_KEY = os.getenv(\"GROQ_API_KEY\")\n"
   ]
  },
  {
   "cell_type": "code",
   "execution_count": 3,
   "id": "93948f03-18ce-4a2e-8e01-7e8119f57695",
   "metadata": {},
   "outputs": [],
   "source": [
    "\n",
    "\n",
    "loader = PyPDFDirectoryLoader(\n",
    "    path = \"university_pdfs\",\n",
    "    glob = \"**/[!.]*.pdf\",\n",
    "    silent_errors = False,\n",
    "    load_hidden = False,\n",
    "    recursive = False,\n",
    "    extract_images = False,\n",
    "    password = None,\n",
    "    mode = \"page\",\n",
    "    headers = None,\n",
    "    extraction_mode = \"plain\",\n",
    ")"
   ]
  },
  {
   "cell_type": "code",
   "execution_count": 4,
   "id": "17a88002",
   "metadata": {},
   "outputs": [
    {
     "name": "stdout",
     "output_type": "stream",
     "text": [
      "Python: c:\\Users\\Mukund\\AppData\\Local\\Programs\\Python\\Python311\\python.exe\n",
      "pypdf: c:\\Users\\Mukund\\AppData\\Local\\Programs\\Python\\Python311\\Lib\\site-packages\\pypdf\\__init__.py\n"
     ]
    }
   ],
   "source": [
    "import pypdf, sys\n",
    "print(\"Python:\", sys.executable)\n",
    "print(\"pypdf:\", pypdf.__file__)\n"
   ]
  },
  {
   "cell_type": "code",
   "execution_count": 5,
   "id": "893a5041",
   "metadata": {},
   "outputs": [
    {
     "name": "stderr",
     "output_type": "stream",
     "text": [
      "Ignoring wrong pointing object 6 0 (offset 0)\n",
      "Ignoring wrong pointing object 8 0 (offset 0)\n",
      "Ignoring wrong pointing object 10 0 (offset 0)\n",
      "Ignoring wrong pointing object 12 0 (offset 0)\n",
      "Ignoring wrong pointing object 14 0 (offset 0)\n",
      "Ignoring wrong pointing object 16 0 (offset 0)\n",
      "Ignoring wrong pointing object 18 0 (offset 0)\n",
      "Ignoring wrong pointing object 20 0 (offset 0)\n",
      "Ignoring wrong pointing object 22 0 (offset 0)\n",
      "Ignoring wrong pointing object 28 0 (offset 0)\n",
      "Ignoring wrong pointing object 30 0 (offset 0)\n",
      "Ignoring wrong pointing object 32 0 (offset 0)\n",
      "Ignoring wrong pointing object 34 0 (offset 0)\n",
      "Ignoring wrong pointing object 39 0 (offset 0)\n",
      "Ignoring wrong pointing object 41 0 (offset 0)\n",
      "Ignoring wrong pointing object 43 0 (offset 0)\n",
      "Ignoring wrong pointing object 45 0 (offset 0)\n",
      "Ignoring wrong pointing object 47 0 (offset 0)\n",
      "Ignoring wrong pointing object 49 0 (offset 0)\n",
      "Ignoring wrong pointing object 57 0 (offset 0)\n",
      "Ignoring wrong pointing object 59 0 (offset 0)\n",
      "Ignoring wrong pointing object 61 0 (offset 0)\n",
      "Ignoring wrong pointing object 72 0 (offset 0)\n",
      "Ignoring wrong pointing object 74 0 (offset 0)\n",
      "Ignoring wrong pointing object 94 0 (offset 0)\n",
      "Ignoring wrong pointing object 99 0 (offset 0)\n",
      "Ignoring wrong pointing object 152 0 (offset 0)\n",
      "Ignoring wrong pointing object 164 0 (offset 0)\n",
      "Ignoring wrong pointing object 169 0 (offset 0)\n",
      "Ignoring wrong pointing object 177 0 (offset 0)\n",
      "Ignoring wrong pointing object 185 0 (offset 0)\n"
     ]
    },
    {
     "name": "stdout",
     "output_type": "stream",
     "text": [
      "Loaded 4951 pages successfully\n"
     ]
    }
   ],
   "source": [
    "\n",
    "docs = loader.load()\n",
    "print(f\"Loaded {len(docs)} pages successfully\")\n"
   ]
  },
  {
   "cell_type": "code",
   "execution_count": 6,
   "id": "56520569",
   "metadata": {},
   "outputs": [
    {
     "data": {
      "text/plain": [
       "Document(metadata={'producer': 'Acrobat Distiller 23.0 (Windows)', 'creator': 'PScript5.dll Version 5.2.2', 'creationdate': '2024-04-10T15:10:24-04:00', 'author': 'nshellu', 'moddate': '2024-04-10T15:10:24-04:00', 'title': 'Microsoft Word - 2024-1351-2 Summary Flyer', 'source': 'university_pdfs\\\\2024-1351-2%20Graduate%20Summary%20Brochure.pdf', 'total_pages': 2, 'page': 0, 'page_label': '1'}, page_content='Who can enroll?  \\nGraduate students of the University of Illinois who are taking credit hours are \\nautomatically enrolled in this Health Insurance Program at registration, unless \\nproof of comparable coverage is furnished.   \\n \\nGraduate students (as defined herein) of the University of Illinois who are \\nenrolled, in attendance, and assessed all applicable fees are eligible for the \\nStudent Health Insurance Plan. \\n \\nDependents (as defined herein) of an Insured are also eligible provided \\napplication for coverage is made during Enrollment Periods. \\n \\nStudents must actively attend classes fo r at least the first 31 days after the \\ndate for which coverage is purchased. Home study, correspondence and \\nonline courses do not fulfill the Eligibility requirements that the student \\nactively attend classes. The Compan y maintains its right to investigate \\neligibility or student status and attendan ce records to verify that the Policy \\neligibility requirements have been met. If and whenever the Company \\ndiscovers that the Policy eligibility requir ements have not been met, its only \\nobligation is refund of premium. \\n \\nStudents who do enroll may insure their dependents. \\n \\nThe eligibility date for Dependents of the Named Insured shall be determined in accordance with the following:  \\n \\n1. If a Named Insured has Dependents on the date he or she is eligible for insurance. \\n2. If a Named Insured acquires a Dependent after the Effective Date, such Dependent becomes eligible: \\na. On the date the Named Insured acquires a legal spouse, Civil Union partner or a Domestic Partner who meets the specific requirements set forth \\nin the Definitions section of the Certificate. \\nb. On the date the Named Insured acquires a dependent child who is within the limits of a dependent child set forth in the Definitions section of the \\nCertificate. \\n \\nDependent eligibility expires concurrently with that of the Named Insured. \\n \\nCoverage periods, plan cost and deadline dates \\n \\n Fall Spring Summer \\nWaiver/Open Enrollment Dates 8/24/2024 – 9/27/2024 1/18/2025 – 2/21/2025 5/17/2025 – 6/20/2025 \\nCoverage dates 8/24/2024 – 1/17/2025 1/18/2025 – 5/16/2025 5/17/2025 – 8/22/2025 \\nStudent $1,051.00 $1,051.00 $1,051.00 \\nSpouse $1,037.00 $1,037.00 $1,037.00 \\nOne Child $1,037.00 $1,037.00 $1,037.00 \\nTwo or More Children $2,074.00 $2,074.00 $2,074.00 \\nSpouse and Two or More Children $3,111.00 $3,111.00 $3,111.00 \\nRates are subject to regulatory approval and may change.  \\n \\n \\n23COL4751-1351-2 \\n \\nPlan resources at your fingertips \\nTo Waive coverage si.illinois.edu \\nView benefits, submit a \\nclaim and download your \\nID card via My Account \\nuhcsr.com/ \\nmyaccount \\nFind an in-network \\nprovider Options PPO \\nFind a prescription drug \\nprovider Optum Rx \\nValue-added benefits and \\nservices Student Assist1, \\nHealthiestYou2, UHC \\nGlobal3 \\nuhcsr.com/ \\nmyaccount \\n2024 - 2025 \\nGraduate Student  \\nHealth Insurance Plan:  \\nUniversity of Illinois at Urbana-Champaign')"
      ]
     },
     "execution_count": 6,
     "metadata": {},
     "output_type": "execute_result"
    }
   ],
   "source": [
    "docs[0]"
   ]
  },
  {
   "cell_type": "code",
   "execution_count": 7,
   "id": "645496cc",
   "metadata": {},
   "outputs": [],
   "source": [
    "def preprocess_text(text):\n",
    "    # for excessive newlines (but keep paragraph breaks)\n",
    "    text = re.sub(r'\\n\\s*\\n\\s*\\n+', '\\n\\n', text)\n",
    "    # spaces before newlines\n",
    "    text = re.sub(r' +\\n', '\\n', text)\n",
    "    # Fix hyphenated words broken across lines\n",
    "    text = re.sub(r'(\\w+)-\\s*\\n\\s*(\\w+)', r'\\1\\2', text)\n",
    "    # Remove document codes/references (like \"23COL4751-1351-2\")\n",
    "    text = re.sub(r'\\n[A-Z0-9]{2,}[-\\d]+\\n', '\\n', text)\n",
    "    # Clean up multiple spaces\n",
    "    text = re.sub(r' {2,}', ' ', text)\n",
    "    return text.strip()\n"
   ]
  },
  {
   "cell_type": "code",
   "execution_count": 8,
   "id": "128e3210",
   "metadata": {},
   "outputs": [],
   "source": [
    "for doc in docs:\n",
    "    doc.page_content = preprocess_text(doc.page_content)"
   ]
  },
  {
   "cell_type": "code",
   "execution_count": 9,
   "id": "3061dea5-f4d4-4356-acad-4377559073c8",
   "metadata": {},
   "outputs": [
    {
     "name": "stdout",
     "output_type": "stream",
     "text": [
      "Split into 18814 chunks\n"
     ]
    },
    {
     "data": {
      "text/plain": [
       "Document(metadata={'producer': 'Acrobat Distiller 23.0 (Windows)', 'creator': 'PScript5.dll Version 5.2.2', 'creationdate': '2024-04-10T15:10:24-04:00', 'author': 'nshellu', 'moddate': '2024-04-10T15:10:24-04:00', 'title': 'Microsoft Word - 2024-1351-2 Summary Flyer', 'source': 'university_pdfs\\\\2024-1351-2%20Graduate%20Summary%20Brochure.pdf', 'total_pages': 2, 'page': 1, 'page_label': '2'}, page_content='refer to uhcsr.com/illinois . NOTE: The information contained herein is a summary of certain benefits which are offered under a student health insurance Policy issued by\\nUnitedHealthcare. This document is a summary only and does not contain a full or complete recitation of the benefits and restrictions/exclusions associated with the relevant Policy of\\ninsurance. This document is not an insurance Policy document and your receipt of this document does not constitute the issuance or delivery of a Policy of insurance. Neither you nor\\nUnitedHealthcare has any rights or responsibilities associated with your receipt of this document. Changes in federal, state or other applicable legislation or regulation or changes in Plan\\ndesign required by the applicable state regulatory authority may result in differences between this summary and the actual Policy of insurance. Benefits and rates described herein are\\nsubject to regulatory approval and may change.\\nQuestions about your plan?')"
      ]
     },
     "execution_count": 9,
     "metadata": {},
     "output_type": "execute_result"
    }
   ],
   "source": [
    "\n",
    "text_splitter = RecursiveCharacterTextSplitter(\n",
    "    chunk_size=1000, \n",
    "    chunk_overlap=200\n",
    ")\n",
    "chunks = text_splitter.split_documents(docs)\n",
    "print(f\"Split into {len(chunks)} chunks\")\n",
    "chunks[10]"
   ]
  },
  {
   "cell_type": "code",
   "execution_count": 10,
   "id": "4dde1fea",
   "metadata": {},
   "outputs": [
    {
     "data": {
      "text/plain": [
       "'NVIDIA GeForce GTX 1650'"
      ]
     },
     "execution_count": 10,
     "metadata": {},
     "output_type": "execute_result"
    }
   ],
   "source": [
    "import torch\n",
    "torch.cuda.is_available()  # should return True\n",
    "torch.cuda.get_device_name(0)  # should show your GPU name\n"
   ]
  },
  {
   "cell_type": "code",
   "execution_count": 11,
   "id": "462e27c4",
   "metadata": {},
   "outputs": [
    {
     "name": "stdout",
     "output_type": "stream",
     "text": [
      "Looking in indexes: https://pypi.org/simple, https://pypi.ngc.nvidia.com\n",
      "Requirement already satisfied: sentence-transformers in c:\\users\\mukund\\appdata\\local\\programs\\python\\python311\\lib\\site-packages (5.1.1)\n",
      "Requirement already satisfied: transformers<5.0.0,>=4.41.0 in c:\\users\\mukund\\appdata\\local\\programs\\python\\python311\\lib\\site-packages (from sentence-transformers) (4.57.1)\n",
      "Requirement already satisfied: tqdm in c:\\users\\mukund\\appdata\\local\\programs\\python\\python311\\lib\\site-packages (from sentence-transformers) (4.67.1)\n",
      "Requirement already satisfied: torch>=1.11.0 in c:\\users\\mukund\\appdata\\local\\programs\\python\\python311\\lib\\site-packages (from sentence-transformers) (2.9.0+cu126)\n",
      "Requirement already satisfied: scikit-learn in c:\\users\\mukund\\appdata\\local\\programs\\python\\python311\\lib\\site-packages (from sentence-transformers) (1.7.2)\n",
      "Requirement already satisfied: scipy in c:\\users\\mukund\\appdata\\local\\programs\\python\\python311\\lib\\site-packages (from sentence-transformers) (1.16.2)\n",
      "Requirement already satisfied: huggingface-hub>=0.20.0 in c:\\users\\mukund\\appdata\\local\\programs\\python\\python311\\lib\\site-packages (from sentence-transformers) (0.35.3)\n",
      "Requirement already satisfied: Pillow in c:\\users\\mukund\\appdata\\local\\programs\\python\\python311\\lib\\site-packages (from sentence-transformers) (11.3.0)\n",
      "Requirement already satisfied: typing_extensions>=4.5.0 in c:\\users\\mukund\\appdata\\local\\programs\\python\\python311\\lib\\site-packages (from sentence-transformers) (4.15.0)\n",
      "Requirement already satisfied: filelock in c:\\users\\mukund\\appdata\\local\\programs\\python\\python311\\lib\\site-packages (from transformers<5.0.0,>=4.41.0->sentence-transformers) (3.20.0)\n",
      "Requirement already satisfied: numpy>=1.17 in c:\\users\\mukund\\appdata\\local\\programs\\python\\python311\\lib\\site-packages (from transformers<5.0.0,>=4.41.0->sentence-transformers) (2.3.4)\n",
      "Requirement already satisfied: packaging>=20.0 in c:\\users\\mukund\\appdata\\local\\programs\\python\\python311\\lib\\site-packages (from transformers<5.0.0,>=4.41.0->sentence-transformers) (25.0)\n",
      "Requirement already satisfied: pyyaml>=5.1 in c:\\users\\mukund\\appdata\\local\\programs\\python\\python311\\lib\\site-packages (from transformers<5.0.0,>=4.41.0->sentence-transformers) (6.0.3)\n",
      "Requirement already satisfied: regex!=2019.12.17 in c:\\users\\mukund\\appdata\\local\\programs\\python\\python311\\lib\\site-packages (from transformers<5.0.0,>=4.41.0->sentence-transformers) (2025.9.18)\n",
      "Requirement already satisfied: requests in c:\\users\\mukund\\appdata\\local\\programs\\python\\python311\\lib\\site-packages (from transformers<5.0.0,>=4.41.0->sentence-transformers) (2.32.5)\n",
      "Requirement already satisfied: tokenizers<=0.23.0,>=0.22.0 in c:\\users\\mukund\\appdata\\local\\programs\\python\\python311\\lib\\site-packages (from transformers<5.0.0,>=4.41.0->sentence-transformers) (0.22.1)\n",
      "Requirement already satisfied: safetensors>=0.4.3 in c:\\users\\mukund\\appdata\\local\\programs\\python\\python311\\lib\\site-packages (from transformers<5.0.0,>=4.41.0->sentence-transformers) (0.6.2)\n",
      "Requirement already satisfied: fsspec>=2023.5.0 in c:\\users\\mukund\\appdata\\local\\programs\\python\\python311\\lib\\site-packages (from huggingface-hub>=0.20.0->sentence-transformers) (2025.9.0)\n",
      "Requirement already satisfied: sympy>=1.13.3 in c:\\users\\mukund\\appdata\\local\\programs\\python\\python311\\lib\\site-packages (from torch>=1.11.0->sentence-transformers) (1.14.0)\n",
      "Requirement already satisfied: networkx>=2.5.1 in c:\\users\\mukund\\appdata\\local\\programs\\python\\python311\\lib\\site-packages (from torch>=1.11.0->sentence-transformers) (3.5)\n",
      "Requirement already satisfied: jinja2 in c:\\users\\mukund\\appdata\\local\\programs\\python\\python311\\lib\\site-packages (from torch>=1.11.0->sentence-transformers) (3.1.6)\n",
      "Requirement already satisfied: mpmath<1.4,>=1.1.0 in c:\\users\\mukund\\appdata\\local\\programs\\python\\python311\\lib\\site-packages (from sympy>=1.13.3->torch>=1.11.0->sentence-transformers) (1.3.0)\n",
      "Requirement already satisfied: colorama in c:\\users\\mukund\\appdata\\local\\programs\\python\\python311\\lib\\site-packages (from tqdm->sentence-transformers) (0.4.6)\n",
      "Requirement already satisfied: MarkupSafe>=2.0 in c:\\users\\mukund\\appdata\\local\\programs\\python\\python311\\lib\\site-packages (from jinja2->torch>=1.11.0->sentence-transformers) (2.1.5)\n",
      "Requirement already satisfied: charset_normalizer<4,>=2 in c:\\users\\mukund\\appdata\\local\\programs\\python\\python311\\lib\\site-packages (from requests->transformers<5.0.0,>=4.41.0->sentence-transformers) (3.4.4)\n",
      "Requirement already satisfied: idna<4,>=2.5 in c:\\users\\mukund\\appdata\\local\\programs\\python\\python311\\lib\\site-packages (from requests->transformers<5.0.0,>=4.41.0->sentence-transformers) (3.11)\n",
      "Requirement already satisfied: urllib3<3,>=1.21.1 in c:\\users\\mukund\\appdata\\local\\programs\\python\\python311\\lib\\site-packages (from requests->transformers<5.0.0,>=4.41.0->sentence-transformers) (2.3.0)\n",
      "Requirement already satisfied: certifi>=2017.4.17 in c:\\users\\mukund\\appdata\\local\\programs\\python\\python311\\lib\\site-packages (from requests->transformers<5.0.0,>=4.41.0->sentence-transformers) (2025.10.5)\n",
      "Requirement already satisfied: joblib>=1.2.0 in c:\\users\\mukund\\appdata\\local\\programs\\python\\python311\\lib\\site-packages (from scikit-learn->sentence-transformers) (1.5.2)\n",
      "Requirement already satisfied: threadpoolctl>=3.1.0 in c:\\users\\mukund\\appdata\\local\\programs\\python\\python311\\lib\\site-packages (from scikit-learn->sentence-transformers) (3.6.0)\n"
     ]
    }
   ],
   "source": [
    "!pip install sentence-transformers"
   ]
  },
  {
   "cell_type": "code",
   "execution_count": 12,
   "id": "49f094b6",
   "metadata": {},
   "outputs": [
    {
     "name": "stdout",
     "output_type": "stream",
     "text": [
      "Package                                  Version\n",
      "---------------------------------------- ------------\n",
      "aiohappyeyeballs                         2.6.1\n",
      "aiohttp                                  3.13.1\n",
      "aiosignal                                1.4.0\n",
      "annotated-types                          0.7.0\n",
      "anyio                                    4.11.0\n",
      "asttokens                                3.0.0\n",
      "attrs                                    25.4.0\n",
      "backoff                                  2.2.1\n",
      "bcrypt                                   5.0.0\n",
      "build                                    1.3.0\n",
      "cachetools                               6.2.1\n",
      "certifi                                  2025.10.5\n",
      "charset-normalizer                       3.4.4\n",
      "chromadb                                 1.2.0\n",
      "click                                    8.3.0\n",
      "colorama                                 0.4.6\n",
      "coloredlogs                              15.0.1\n",
      "comm                                     0.2.3\n",
      "dataclasses-json                         0.6.7\n",
      "debugpy                                  1.8.17\n",
      "decorator                                5.2.1\n",
      "distro                                   1.9.0\n",
      "durationpy                               0.10\n",
      "executing                                2.2.1\n",
      "filelock                                 3.20.0\n",
      "flatbuffers                              25.9.23\n",
      "frozenlist                               1.8.0\n",
      "fsspec                                   2025.9.0\n",
      "google-auth                              2.41.1\n",
      "googleapis-common-protos                 1.70.0\n",
      "greenlet                                 3.2.4\n",
      "groq                                     0.32.0\n",
      "grpcio                                   1.75.1\n",
      "h11                                      0.16.0\n",
      "httpcore                                 1.0.9\n",
      "httptools                                0.7.1\n",
      "httpx                                    0.28.1\n",
      "httpx-sse                                0.4.3\n",
      "huggingface-hub                          0.35.3\n",
      "humanfriendly                            10.0\n",
      "idna                                     3.11\n",
      "importlib_metadata                       8.7.0\n",
      "importlib_resources                      6.5.2\n",
      "ipykernel                                7.0.1\n",
      "ipython                                  9.6.0\n",
      "ipython_pygments_lexers                  1.1.1\n",
      "ipywidgets                               8.1.7\n",
      "jedi                                     0.19.2\n",
      "Jinja2                                   3.1.6\n",
      "joblib                                   1.5.2\n",
      "jsonpatch                                1.33\n",
      "jsonpointer                              3.0.0\n",
      "jsonschema                               4.25.1\n",
      "jsonschema-specifications                2025.9.1\n",
      "jupyter_client                           8.6.3\n",
      "jupyter_core                             5.9.1\n",
      "jupyterlab_widgets                       3.0.15\n",
      "kubernetes                               34.1.0\n",
      "langchain                                1.0.0\n",
      "langchain-chroma                         1.0.0\n",
      "langchain-classic                        1.0.0\n",
      "langchain-community                      0.4\n",
      "langchain-core                           1.0.0\n",
      "langchain-groq                           1.0.0\n",
      "langchain-huggingface                    1.0.0\n",
      "langchain-ollama                         1.0.0\n",
      "langchain-text-splitters                 1.0.0\n",
      "langgraph                                1.0.0\n",
      "langgraph-checkpoint                     2.1.2\n",
      "langgraph-prebuilt                       1.0.0\n",
      "langgraph-sdk                            0.2.9\n",
      "langsmith                                0.4.37\n",
      "markdown-it-py                           4.0.0\n",
      "MarkupSafe                               2.1.5\n",
      "marshmallow                              3.26.1\n",
      "matplotlib-inline                        0.1.7\n",
      "mdurl                                    0.1.2\n",
      "mmh3                                     5.2.0\n",
      "mpmath                                   1.3.0\n",
      "multidict                                6.7.0\n",
      "mypy_extensions                          1.1.0\n",
      "nest-asyncio                             1.6.0\n",
      "networkx                                 3.5\n",
      "numpy                                    2.3.4\n",
      "oauthlib                                 3.3.1\n",
      "ollama                                   0.6.0\n",
      "onnxruntime                              1.23.1\n",
      "opentelemetry-api                        1.38.0\n",
      "opentelemetry-exporter-otlp-proto-common 1.38.0\n",
      "opentelemetry-exporter-otlp-proto-grpc   1.38.0\n",
      "opentelemetry-proto                      1.38.0\n",
      "opentelemetry-sdk                        1.38.0\n",
      "opentelemetry-semantic-conventions       0.59b0\n",
      "orjson                                   3.11.3\n",
      "ormsgpack                                1.11.0\n",
      "overrides                                7.7.0\n",
      "packaging                                25.0\n",
      "parso                                    0.8.5\n",
      "pillow                                   11.3.0\n",
      "pip                                      25.2\n",
      "platformdirs                             4.5.0\n",
      "posthog                                  5.4.0\n",
      "prompt_toolkit                           3.0.52\n",
      "propcache                                0.4.1\n",
      "protobuf                                 6.33.0\n",
      "psutil                                   7.1.0\n",
      "pure_eval                                0.2.3\n",
      "pyasn1                                   0.6.1\n",
      "pyasn1_modules                           0.4.2\n",
      "pybase64                                 1.4.2\n",
      "pydantic                                 2.12.3\n",
      "pydantic_core                            2.41.4\n",
      "pydantic-settings                        2.11.0\n",
      "Pygments                                 2.19.2\n",
      "pypdf                                    6.1.2\n",
      "PyPika                                   0.48.9\n",
      "pyproject_hooks                          1.2.0\n",
      "pyreadline3                              3.5.4\n",
      "python-dateutil                          2.9.0.post0\n",
      "python-dotenv                            1.1.1\n",
      "PyYAML                                   6.0.3\n",
      "pyzmq                                    27.1.0\n",
      "referencing                              0.37.0\n",
      "regex                                    2025.9.18\n",
      "requests                                 2.32.5\n",
      "requests-oauthlib                        2.0.0\n",
      "requests-toolbelt                        1.0.0\n",
      "rich                                     14.2.0\n",
      "rpds-py                                  0.27.1\n",
      "rsa                                      4.9.1\n",
      "safetensors                              0.6.2\n",
      "scikit-learn                             1.7.2\n",
      "scipy                                    1.16.2\n",
      "sentence-transformers                    5.1.1\n",
      "setuptools                               80.9.0\n",
      "shellingham                              1.5.4\n",
      "six                                      1.17.0\n",
      "sniffio                                  1.3.1\n",
      "SQLAlchemy                               2.0.44\n",
      "stack-data                               0.6.3\n",
      "sympy                                    1.14.0\n",
      "tenacity                                 9.1.2\n",
      "threadpoolctl                            3.6.0\n",
      "tokenizers                               0.22.1\n",
      "torch                                    2.9.0+cu126\n",
      "torchvision                              0.24.0+cu126\n",
      "tornado                                  6.5.2\n",
      "tqdm                                     4.67.1\n",
      "traitlets                                5.14.3\n",
      "transformers                             4.57.1\n",
      "typer                                    0.19.2\n",
      "typing_extensions                        4.15.0\n",
      "typing-inspect                           0.9.0\n",
      "typing-inspection                        0.4.2\n",
      "urllib3                                  2.3.0\n",
      "uvicorn                                  0.38.0\n",
      "watchfiles                               1.1.1\n",
      "wcwidth                                  0.2.14\n",
      "websocket-client                         1.9.0\n",
      "websockets                               15.0.1\n",
      "wheel                                    0.45.1\n",
      "widgetsnbextension                       4.0.14\n",
      "xxhash                                   3.6.0\n",
      "yarl                                     1.22.0\n",
      "zipp                                     3.23.0\n",
      "zstandard                                0.25.0\n"
     ]
    }
   ],
   "source": [
    "!pip list"
   ]
  },
  {
   "cell_type": "code",
   "execution_count": 13,
   "id": "56091717",
   "metadata": {},
   "outputs": [
    {
     "name": "stdout",
     "output_type": "stream",
     "text": [
      "c:\\Users\\Mukund\\AppData\\Local\\Programs\\Python\\Python311\\python.exe\n"
     ]
    }
   ],
   "source": [
    "import sys\n",
    "print(sys.executable)"
   ]
  },
  {
   "cell_type": "code",
   "execution_count": 17,
   "id": "3471f501",
   "metadata": {},
   "outputs": [],
   "source": [
    "hf_embeddings = HuggingFaceEmbeddings(\n",
    "    model_name=\"sentence-transformers/all-mpnet-base-v2\",\n",
    "    model_kwargs={\"device\": \"cuda\"},\n",
    "    encode_kwargs={\"batch_size\": 64, \"normalize_embeddings\": False}\n",
    ")\n"
   ]
  },
  {
   "cell_type": "code",
   "execution_count": 18,
   "id": "32ca453b",
   "metadata": {},
   "outputs": [],
   "source": [
    "texts = [doc.page_content for doc in chunks]\n",
    "metadatas = [{\"source\": doc.metadata.get(\"source\", \"\")} for doc in chunks]"
   ]
  },
  {
   "cell_type": "code",
   "execution_count": 19,
   "id": "fa06de99",
   "metadata": {},
   "outputs": [],
   "source": [
    "persist_directory = \"chroma_local_db\"\n",
    "vectorstore = Chroma.from_texts(\n",
    "    texts=texts,\n",
    "    embedding=hf_embeddings,\n",
    "    persist_directory=persist_directory,\n",
    ")\n"
   ]
  },
  {
   "cell_type": "code",
   "execution_count": null,
   "id": "0bca8723",
   "metadata": {},
   "outputs": [],
   "source": []
  }
 ],
 "metadata": {
  "kernelspec": {
   "display_name": "Python 3",
   "language": "python",
   "name": "python3"
  },
  "language_info": {
   "codemirror_mode": {
    "name": "ipython",
    "version": 3
   },
   "file_extension": ".py",
   "mimetype": "text/x-python",
   "name": "python",
   "nbconvert_exporter": "python",
   "pygments_lexer": "ipython3",
   "version": "3.11.8"
  }
 },
 "nbformat": 4,
 "nbformat_minor": 5
}
